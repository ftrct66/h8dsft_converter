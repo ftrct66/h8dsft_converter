{
  "nbformat": 4,
  "nbformat_minor": 0,
  "metadata": {
    "colab": {
      "provenance": []
    },
    "kernelspec": {
      "name": "python3",
      "display_name": "Python 3"
    },
    "language_info": {
      "name": "python"
    }
  },
  "cells": [
    {
      "cell_type": "markdown",
      "source": [
        "Buat sebuah function yang dapat mengkonversi suhu dari kelvin ke celcius, dan celcius ke kelvin."
      ],
      "metadata": {
        "id": "6Chblt0Zs404"
      }
    },
    {
      "cell_type": "code",
      "execution_count": null,
      "metadata": {
        "colab": {
          "base_uri": "https://localhost:8080/"
        },
        "id": "sP6ZR41hK_Mu",
        "outputId": "5dd5a6e7-14cc-494a-9add-70802e01dd4f"
      },
      "outputs": [
        {
          "output_type": "stream",
          "name": "stdout",
          "text": [
            "hasil =  27\n"
          ]
        }
      ],
      "source": [
        "def konversi_kelvin_celcius (kelvin):\n",
        "  celcius = kelvin - 273\n",
        "  print ('hasil = ', celcius)\n",
        "\n",
        "konversi_kelvin_celcius(300)"
      ]
    },
    {
      "cell_type": "code",
      "source": [
        "def konversi_celcius_kelvin (celcius):\n",
        "  kelvin = celcius + 273\n",
        "  print ('hasil = ', kelvin)\n",
        "\n",
        "konversi_celcius_kelvin(100)"
      ],
      "metadata": {
        "colab": {
          "base_uri": "https://localhost:8080/"
        },
        "id": "-dj2HnWMMnOn",
        "outputId": "17bb5d67-fd6c-4ce1-b2b1-676e540b2126"
      },
      "execution_count": null,
      "outputs": [
        {
          "output_type": "stream",
          "name": "stdout",
          "text": [
            "hasil =  373\n"
          ]
        }
      ]
    },
    {
      "cell_type": "markdown",
      "source": [
        "Buat sebuah function yang dapat mengkonversi suhu ke fahrenheit. Tambahkan parameter untuk memastikan bahwa argumen yang dimasukan adalah celcius atau kelvin. Panggil function yang pertama jika diperlukan."
      ],
      "metadata": {
        "id": "bAF7DVmatHkN"
      }
    },
    {
      "cell_type": "code",
      "source": [
        "def konversi_fahrenheit (mode, suhu):\n",
        "  if mode == 'kelvin':\n",
        "    kelvin = 5/9 *(suhu - 32) + 273\n",
        "    print('Fahrenheit ke kelvin :', kelvin)\n",
        "  elif mode == 'celcius':\n",
        "    celcius = 5/9 *(suhu - 32)\n",
        "    print('Fahrenheit ke celcius : ', celcius)\n",
        "  else:\n",
        "    print('pass')\n",
        "\n",
        "konversi_fahrenheit('kelvin', 100)\n",
        "konversi_fahrenheit('celcius', 100)"
      ],
      "metadata": {
        "colab": {
          "base_uri": "https://localhost:8080/"
        },
        "id": "2LF0joS3pqVb",
        "outputId": "dcb71dca-e0bd-4294-cc75-dd4cc52aa211"
      },
      "execution_count": 5,
      "outputs": [
        {
          "output_type": "stream",
          "name": "stdout",
          "text": [
            "Fahrenheit ke kelvin : 310.77777777777777\n",
            "Fahrenheit ke celcius :  37.77777777777778\n"
          ]
        }
      ]
    },
    {
      "cell_type": "markdown",
      "source": [
        "Buat Buatlah sebuah function yang dapat mengkonversi suhu dari fahrenheit. Berikan argumen untuk memastikan bahwa outputnya dalah celcius atau kelvin."
      ],
      "metadata": {
        "id": "73FAp1wmtSgW"
      }
    },
    {
      "cell_type": "code",
      "source": [
        "def konversi_fahrenheit (mode, suhu):\n",
        "  if mode == 'kelvin':\n",
        "    kelvin = 5/9 *(suhu - 32) + 273\n",
        "    print ('Fahrenheit = ', kelvin, 'Kelvin')\n",
        "  elif mode == 'celcius':\n",
        "    celcius = 5/9 *(suhu - 32)\n",
        "    print ('Fahrenheit = ', celcius, 'Celcius')\n",
        "\n",
        "konversi_fahrenheit ('kelvin', 100)\n",
        "konversi_fahrenheit ('celcius', 100)"
      ],
      "metadata": {
        "colab": {
          "base_uri": "https://localhost:8080/"
        },
        "id": "K32Rt5-IXqXT",
        "outputId": "3713ecb1-6700-45a7-a351-46e78a6f75a0"
      },
      "execution_count": 7,
      "outputs": [
        {
          "output_type": "stream",
          "name": "stdout",
          "text": [
            "Fahrenheit =  310.77777777777777 Kelvin\n",
            "Fahrenheit =  37.77777777777778 Celcius\n"
          ]
        }
      ]
    }
  ]
}